{
 "cells": [
  {
   "cell_type": "code",
   "execution_count": 1,
   "metadata": {},
   "outputs": [],
   "source": [
    "from random import randint, random\n",
    "from operator import add\n",
    "from functools import reduce\n",
    "\n",
    "def evolve (populasi,target,retain=0.2,random_select=0.05, mutate=0.01):\n",
    "    graded = [(fitness(x,target),x) for x in populasi]\n",
    "    graded = [x[1]for x in sorted(graded)]\n",
    "    retain_length = int (len(graded)*retain)\n",
    "    parents = graded[:retain_length]\n",
    "    \n",
    "    for individu in graded [retain_length:]:\n",
    "        r = random()\n",
    "        if random_select > random():\n",
    "            parents.append(individu)\n",
    "        \n",
    "    for individu in parents:\n",
    "        if mutate > random():\n",
    "            pos_to_mutate = randint(0,len(individu)-1)\n",
    "            individu[pos_to_mutate] = randint(min(individu),max(individu))\n",
    "\n",
    "        parents_length = len(parents)\n",
    "    desired_length = len(populasi) - parents_length\n",
    "\n",
    "    children = []\n",
    "    while len(children) < desired_length:\n",
    "        malenumber = randint(0, parents_length-1)\n",
    "        femalenumber = randint(0, parents_length-1)\n",
    "        if malenumber != femalenumber:\n",
    "            male = parents[malenumber]\n",
    "            female = parents[femalenumber]\n",
    "            half = round(len(male)/2)\n",
    "\n",
    "            #cari titik tengah\n",
    "            child = male[:half] + female[:half]\n",
    "            #ambil nilai setngah dari ayah, sisanya dari ibu\n",
    "            children.append(child)\n",
    "    parents.extend(children)\n",
    "    return parents"
   ]
  },
  {
   "cell_type": "code",
   "execution_count": 2,
   "metadata": {},
   "outputs": [],
   "source": [
    "def population(count,length,min,max):\n",
    "    return[individual(length,min,max) for x in range(count)]\n",
    "\n",
    "def individual(length,min,max):\n",
    "    return[randint(min,max)for x in range(length)]\n",
    "\n",
    "def grade (populasi,target):\n",
    "    summed = reduce(add, (fitness(x,target) for x in populasi), 0)\n",
    "    return summed/(len(populasi)*0.1)\n",
    "\n",
    "def fitness(individual,target):\n",
    "    sum = reduce(add, individual,0)\n",
    "    return abs(target-sum)"
   ]
  },
  {
   "cell_type": "code",
   "execution_count": 4,
   "metadata": {},
   "outputs": [
    {
     "name": "stdout",
     "output_type": "stream",
     "text": [
      "1241.8, 1047.2, 669.0, 403.7, 236.6, 75.3, 11.7, 10.0, 10.0, 10.0, 10.3, 10.3, 10.0, 10.0, 10.0, 10.0, 10.5, 10.0, 10.0, 10.0, 10.0, 10.0, 10.0, 10.4, 11.1, 10.0, 10.0, 10.0, 10.1, 10.0, 10.0, 10.8, 10.0, 10.0, 10.0, 10.0, 10.0, 10.0, 10.0, 10.0, 10.0, 10.0, 10.0, 14.5, 10.0, 10.0, 10.0, 10.0, 10.0, 10.1, 10.0, [90, 95, 90, 95]\n"
     ]
    }
   ],
   "source": [
    "target = 371\n",
    "p_count = 100\n",
    "i_length = 5\n",
    "i_min = 0\n",
    "i_max = 100\n",
    "p = population(p_count, i_length, i_min, i_max)\n",
    "fitness_history = [grade(p,target),]\n",
    "for i in range(50):\n",
    "    p = evolve(p, target)\n",
    "    fitness_history.append(grade(p,target))\n",
    "for datum in fitness_history:\n",
    "    print(datum, end=', ')\n",
    "print(p[0])"
   ]
  },
  {
   "cell_type": "code",
   "execution_count": null,
   "metadata": {},
   "outputs": [],
   "source": []
  }
 ],
 "metadata": {
  "kernelspec": {
   "display_name": "Python 3",
   "language": "python",
   "name": "python3"
  },
  "language_info": {
   "codemirror_mode": {
    "name": "ipython",
    "version": 3
   },
   "file_extension": ".py",
   "mimetype": "text/x-python",
   "name": "python",
   "nbconvert_exporter": "python",
   "pygments_lexer": "ipython3",
   "version": "3.8.5"
  }
 },
 "nbformat": 4,
 "nbformat_minor": 5
}
